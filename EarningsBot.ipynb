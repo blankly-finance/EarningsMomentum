{
  "nbformat": 4,
  "nbformat_minor": 0,
  "metadata": {
    "colab": {
      "name": "EarningsBot.ipynb",
      "provenance": [],
      "collapsed_sections": []
    },
    "kernelspec": {
      "name": "python3",
      "display_name": "Python 3"
    },
    "language_info": {
      "name": "python"
    }
  },
  "cells": [
    {
      "cell_type": "code",
      "execution_count": null,
      "metadata": {
        "id": "cJYA_9xCNnvv"
      },
      "outputs": [],
      "source": [
        "!pip install blankly"
      ]
    },
    {
      "cell_type": "code",
      "source": [
        "!blankly init"
      ],
      "metadata": {
        "id": "w2cB-3DENreN"
      },
      "execution_count": null,
      "outputs": []
    },
    {
      "cell_type": "code",
      "source": [
        "import requests\n",
        "import json\n",
        "import blankly\n",
        "import datetime\n",
        "from os.path import exists"
      ],
      "metadata": {
        "id": "aMt5G7Y6Nwph"
      },
      "execution_count": 2,
      "outputs": []
    },
    {
      "cell_type": "code",
      "source": [
        "def time_utility(time):\n",
        "  return datetime.datetime.strptime(time, '%Y-%m-%d')"
      ],
      "metadata": {
        "id": "YrJ78P9sO8PW"
      },
      "execution_count": 3,
      "outputs": []
    },
    {
      "cell_type": "code",
      "source": [
        "def init(symbols, state: blankly.StrategyState):\n",
        "    # Download past price data for initialization.\n",
        "    state.variables['history'] = {symbol:state.interface.history(symbol, to=50, return_as='list',\n",
        "                                                         resolution=state.resolution)['close'] for symbol in symbols}\n",
        "    '''\n",
        "    Store earnings dates for each ticker in a dictionary of lists.\n",
        "    Each ticker maps to a sequential list of earnings dates.\n",
        "    '''\n",
        "    state.earnings_dates = {}\n",
        "    '''Use the Financial Modeling Prep API to pull earnings dates and store them in .json files.\n",
        "    Store the files in a local folder\n",
        "    If we have already downloaded said data, skip over the ticker.\n",
        "    '''\n",
        "    for symbol in symbols:\n",
        "      if not exists('CalendarJSONs/'+symbol + '.json'):\n",
        "        result = requests.get('https://financialmodelingprep.com/api/v3/historical/earning_calendar/'+symbol+'?apikey=YOUR_API_KEY')\n",
        "        data = result.json()\n",
        "        with open('CalendarJSONs/'+symbol+'.json', 'w+') as f:\n",
        "          json.dump(data, f)\n",
        "      with open('CalendarJSONs/'+symbol+'.json', 'r') as f:\n",
        "          rdata = json.load(f)\n",
        "      '''\n",
        "      Initialize an empty list to store earnings dates.\n",
        "      Store dates from least recent to most recent.\n",
        "      '''\n",
        "      lis = []\n",
        "      for elem in rdata[::-1]:\n",
        "          lis.append(time_utility(elem['date']))\n",
        "      state.earnings_dates[symbol] = lis\n",
        "\n",
        "    # Helper data that we will store to encode where we are in the list of earnings dates \n",
        "    state.earnings_indices = {symbol:0 for symbol in symbols}\n",
        "\n",
        "    #Dictionary -- track which securities we own positions in\n",
        "    state.variables['owns_position'] = {symbol:False for symbol in symbols}\n",
        "\n",
        "    '''Have we initialized earnings indices yet?\n",
        "    We have to do this in the first iteration of our arbitrage event\n",
        "    because our starting point is dependent on the backtest length\n",
        "    '''\n",
        "    state.variables['init_indices'] = False"
      ],
      "metadata": {
        "id": "2KGkxVnBPY2h"
      },
      "execution_count": 4,
      "outputs": []
    },
    {
      "cell_type": "code",
      "source": [
        "def earn_event(prices, symbols, state: blankly.StrategyState):\n",
        "  '''\n",
        "  We use the last element in symbols as the SPDR Dow ETF\n",
        "  We do this so we can pairs trade on our strategy relative to the Dow\n",
        "  This both gives us a measure of how effective our strategy is relative to the market\n",
        "  and reduces our risk.\n",
        "  '''\n",
        "  #Append most recent price so we can check later on if stock price increased after earnings\n",
        "  for symbol in symbols[:-1]:\n",
        "    (state.variables['history'][symbol]).append(prices[symbol])\n",
        "  '''\n",
        "  If we haven't initialized indices already, do so. \n",
        "  Do this by iterating through each stock's earnings calendar\n",
        "  until the current date is within 7 days of the last earnings report.\n",
        "  '''\n",
        "  if not state.variables['init_indices']:\n",
        "    for symbol in symbols[:-1]:\n",
        "      while (state.time - state.earnings_dates[symbol][state.earnings_indices[symbol]].timestamp()) > 7 * 86400:\n",
        "        state.earnings_indices[symbol]+=1\n",
        "    state.variables['init_indices'] = True\n",
        "  #Initialize buy list to 0 -- this will hold the stocks we open/keep positions in.  \n",
        "  buy_list = []\n",
        "  '''\n",
        "  For each symbol except for the ETF, calculate the time between last earnings and now\n",
        "  If it's 7 days (1 week) after earnings and price has increased, choose to open a position\n",
        "  If it's after this, but before 2 weeks after earnings, choose to keep our current position open\n",
        "  Otherwise, if we have an open position, it's ready to be closed, so we do so and increment the earnings index for that stock.\n",
        "  '''\n",
        "  for symbol in symbols[:-1]:\n",
        "    diff = (state.time - state.earnings_dates[symbol][state.earnings_indices[symbol]].timestamp())\n",
        "    if diff >= 7 * 86400 and diff <= 8 * 86400:\n",
        "      if state.variables['history'][symbol][-1] > state.variables['history'][symbol][-6]:\n",
        "        buy_list.append(symbol)\n",
        "    elif state.variables['owns_position'][symbol] and diff >=8 * 86400 and diff <= 14 * 86400:\n",
        "      buy_list.append(symbol)\n",
        "    elif state.variables['owns_position'][symbol]:\n",
        "      curr = blankly.trunc(state.interface.account[symbol].available, 2)\n",
        "      if curr > 0:\n",
        "        state.interface.market_order(symbol, side = 'sell', size = curr)\n",
        "      state.variables['owns_position'][symbol] = False\n",
        "      state.earnings_indices[symbol]+=1\n",
        "  '''\n",
        "  The buy list consists of tickers to hold positions (must be rebalanced)\n",
        "  as well as tickers to open positions in. One way to rebalance is to sell all current holdings\n",
        "  and then rebuy according to new allocations. This wouldn't be used in practice, as factors\n",
        "  such as slippage make this worse than alternatives like simply selling and rebuying in a single transaction.\n",
        "  However, for this slippage-free backtest, the two methods are equivalent, so we'll do this.\n",
        "  '''    \n",
        "  for symbol in buy_list:\n",
        "    if state.variables['owns_position'][symbol]:\n",
        "      #Get the amount of available shares of stock\n",
        "      curr = blankly.trunc(state.interface.account[symbol].available, 2)\n",
        "      state.interface.market_order(symbol, side = 'sell', size = curr)\n",
        "      #sell and rebuy\n",
        "  '''\n",
        "  Here, we have the DIA logic for pairs trading. \n",
        "  If we own a DIA position, close it out.\n",
        "  If we're going to buy stocks, open a new DIA position.\n",
        "  Set the buy size for stocks to equal allocation of our cash across all stocks.\n",
        "  '''\n",
        "  if blankly.trunc(state.interface.account['DIA'].available, 2) < 0:\n",
        "    state.interface.market_order('DIA', side ='buy', size = -blankly.trunc(state.interface.account['DIA'].available,2))\n",
        "  if len(buy_list) > 0 :\n",
        "    buy = state.interface.cash/len(buy_list)\n",
        "    state.interface.market_order('DIA', side ='sell', size = blankly.trunc((state.interface.cash - prices['DIA'] * state.interface.account['DIA'].available)/(prices['DIA']),2))\n",
        "  else:\n",
        "    buy = 0\n",
        "  #Loop through tickers in buy list and buy + set flag to True.\n",
        "  for symbol in buy_list:\n",
        "    if blankly.trunc(buy/prices[symbol], 2) > 0:\n",
        "      state.interface.market_order(symbol, side ='buy', size = blankly.trunc(buy/(prices[symbol]), 2))\n",
        "      state.variables['owns_position'][symbol] = True\n"
      ],
      "metadata": {
        "id": "Mjnggn_ARVq_"
      },
      "execution_count": 19,
      "outputs": []
    },
    {
      "cell_type": "code",
      "source": [
        "if __name__ == \"__main__\":\n",
        "    # Authenticate Alpaca Strategy\n",
        "    exchange = blankly.Alpaca(portfolio_name=\"another cool portfolio\")\n",
        "    # Use our strategy helper on Alpaca\n",
        "    strategy = blankly.Strategy(exchange)\n",
        "    #Define our strategy on all 30 Dow stocks. \n",
        "    dow_stocks = ['AXP', 'AMGN', 'AAPL', 'BA', 'CAT', 'CSCO', 'CVX', 'GS', 'HD', 'HON', 'IBM', 'INTC','JNJ',\\\n",
        "                  'KO', 'JPM', 'MCD', 'MMM', 'MRK', 'MSFT', 'NKE', 'PG', 'TRV', 'UNH', 'CRM', 'VZ', 'V', 'WBA', 'WMT', 'DIS', 'DOW', 'DIA']\n",
        "    # Run the event every time we check for a new price - once a day\n",
        "    # The arbitrage event framework allows us to define strategies on groups of stocks together\n",
        "    strategy.add_arbitrage_event(earn_event, dow_stocks, resolution='1d', init=init)\n",
        "    # Start the strategy. This will begin each of the price event ticks\n",
        "    # strategy.start()\n",
        "    # Or backtest using this\n",
        "    results = strategy.backtest(start_date='04/23/2021', end_date = '4/23/2022',initial_values={'USD': 10000})\n",
        "    print(results)"
      ],
      "metadata": {
        "id": "-Akk4x91tFYI"
      },
      "execution_count": null,
      "outputs": []
    }
  ]
}